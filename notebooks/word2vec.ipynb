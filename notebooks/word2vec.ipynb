{
 "cells": [
  {
   "cell_type": "code",
   "execution_count": 1,
   "metadata": {},
   "outputs": [],
   "source": [
    "from gensim.test.utils import common_texts, get_tmpfile\n",
    "from gensim.models import Word2Vec\n",
    "from gensim.models import KeyedVectors\n",
    "# from keras.preprocessing.text import Tokenizer\n",
    "from nltk.tokenize import sent_tokenize, word_tokenize\n",
    "from nltk.corpus import stopwords\n",
    "from nltk.stem.wordnet import WordNetLemmatizer\n",
    "import pandas as pd"
   ]
  },
  {
   "cell_type": "code",
   "execution_count": 2,
   "metadata": {},
   "outputs": [],
   "source": [
    "# wv_from_text = KeyedVectors.load_word2vec_format('../main/models/nkjp+wiki-forms-all-300-skipg-ns-50.txt', binary=False)\n",
    "\n",
    "MODEL_PATH='../main/models/nkjp+wiki-forms-all-300-skipg-ns-50.txt'\n",
    "FACTS_PATH='/Users/mjankowski/workspace/hackcrisis/hackcrisis_app/elastic/coronavirus_ground_truth_v6.csv'"
   ]
  },
  {
   "cell_type": "code",
   "execution_count": null,
   "metadata": {},
   "outputs": [],
   "source": [
    "def sentence_to_tokens(sentence, stop_words, all_words):\n",
    "    try:\n",
    "        all_tokens = word_tokenize(sentence)\n",
    "        tokens = [x for x in all_tokens if x not in stop_words]\n",
    "        tokens = [x for x in tokens if x in all_words]\n",
    "        \n",
    "        all_tokens_lower = [x.lower() for x in all_tokens]\n",
    "        tokens_lower = [x for x in all_tokens_lower if x not in stop_words]\n",
    "        tokens_lower = [x for x in tokens_lower if x in all_words]\n",
    "        \n",
    "        return set(set(tokens) | set(tokens_lower))\n",
    "    except:\n",
    "        return []"
   ]
  },
  {
   "cell_type": "code",
   "execution_count": 3,
   "metadata": {},
   "outputs": [],
   "source": [
    "def init():\n",
    "    wv_from_text = KeyedVectors.load_word2vec_format(MODEL_PATH, binary=False)\n",
    "    vocab = wv_from_text.wv.vocab \n",
    "    all_words = []\n",
    "    for k,v in vocab.items():\n",
    "        all_words.append(k)\n",
    "    \n",
    "    stop_words = stopwords.words('polish')\n",
    "    facts = pd.read_csv(FACTS_PATH)\n",
    "    facts['tokens'] = facts['text'].apply(sentence_to_tokens, args=(stop_words, all_words))\n",
    "    return stop_words, all_words, facts, wv_from_text"
   ]
  },
  {
   "cell_type": "code",
   "execution_count": 4,
   "metadata": {},
   "outputs": [],
   "source": []
  },
  {
   "cell_type": "code",
   "execution_count": 5,
   "metadata": {},
   "outputs": [],
   "source": [
    "def calculate_score(query_tokens, candidate_tokens, model):\n",
    "    if (len(query_tokens) > 0) & (len(candidate_tokens) > 0):\n",
    "        return model.n_similarity(query_tokens, candidate_tokens)\n",
    "    else: \n",
    "        return 0\n",
    "    "
   ]
  },
  {
   "cell_type": "code",
   "execution_count": 6,
   "metadata": {},
   "outputs": [],
   "source": [
    "def find_top_matches(query_sentence, stop_words, all_words, facts, model, k=10):\n",
    "    query_tokens = sentence_to_tokens(query_sentence, stop_words, all_words)\n",
    "    scores = [calculate_score(query_tokens, tokens, model) for tokens in facts['tokens']]\n",
    "    facts_scores = facts[['text', 'source', 'is_true']].copy()\n",
    "    facts_scores['score'] = scores\n",
    "    result = facts_scores.sort_values(by=['score'], ascending=False).head(k)\n",
    "    return result"
   ]
  },
  {
   "cell_type": "code",
   "execution_count": 7,
   "metadata": {},
   "outputs": [
    {
     "name": "stderr",
     "output_type": "stream",
     "text": [
      "/anaconda3/envs/hackcrisis_flask/lib/python3.7/site-packages/ipykernel_launcher.py:3: DeprecationWarning: Call to deprecated `wv` (Attribute will be removed in 4.0.0, use self instead).\n",
      "  This is separate from the ipykernel package so we can avoid doing imports until\n"
     ]
    }
   ],
   "source": [
    "stop_words, all_words, facts, model = init()"
   ]
  },
  {
   "cell_type": "code",
   "execution_count": null,
   "metadata": {},
   "outputs": [],
   "source": [
    "pickle.dump(model, open('../main/models/model.pickle', \"wb\"))\n",
    "my_model = pickle.load(open('../main/models/model.pickle', \"rb\" ))"
   ]
  },
  {
   "cell_type": "code",
   "execution_count": 23,
   "metadata": {},
   "outputs": [
    {
     "data": {
      "text/plain": [
       "array([[\"Nie ma dotychczas żadnych danych wskazujących na to, że zwierzęta domowe, takie jak psy i koty mogą przenosić zakażenie koronawirusem 2019-nCoV.'\"],\n",
       "       ['Obecnie nie ma dowodów na to, że zwierzęta domowe, takie jak psy lub koty, mogą zostać zarażone nowym koronawirusem.'],\n",
       "       ['Obecnie nie ma dowodów na to, że zwierzęta domowe, takie jak psy lub koty, mogą zostać zarażone nowym koronawirusem.'],\n",
       "       ['Koronawirusy występują u zwierząt ale zwierzęta nie chorują na choroby z tym zwiazane'],\n",
       "       ['Zakażenie korona wirusem może być przenoszone przez komary'],\n",
       "       ['Antybiotyki nie działąją na wirusy tylko na bakterie.'],\n",
       "       ['Aktualnie nie ma dowodów na to że koronawirus jest przenoszony przez komary.'],\n",
       "       ['A przede wszystkim mycie rąk pozwala usunąć z powierzchni rąk m.in. bakterie, wirusy czy grzyby odpowiadające za cały szereg groźnych chorób, jak choćby salmonellę czy grypę.'],\n",
       "       ['A przede wszystkim mycie rąk pozwala usunąć z powierzchni rąk m.in. bakterie, wirusy czy grzyby odpowiadające za cały szereg groźnych chorób, jak choćby salmonellę czy grypę.'],\n",
       "       ['Ze względu na zagrozenie zakażenia ludzi zwierzęta domowe muszą zostać oddane do schroniska']],\n",
       "      dtype=object)"
      ]
     },
     "execution_count": 23,
     "metadata": {},
     "output_type": "execute_result"
    }
   ],
   "source": [
    "find_top_matches(\"zwierzęta komary\", stop_words, all_words, facts, model)[['text']].values"
   ]
  },
  {
   "cell_type": "code",
   "execution_count": 24,
   "metadata": {},
   "outputs": [
    {
     "data": {
      "text/plain": [
       "array([['Grypa to choroba zakaźna układu oddechowego wywołana zakażeniem wirusem grypy. Grypę mogą powodować 3 rodzaje wirusa (A, B i C) należącego do rodziny ortomyksowirusów. Wirus C powoduje zachorowanie o lżejszym przebiegu, natomiast wirusy A i B są przyczyną ciężkich zachorowań, które mogą osiągać rozmiary epidemii grypy.'],\n",
       "       ['Grypa to choroba zakaźna układu oddechowego wywołana zakażeniem wirusem grypy. Grypę mogą powodować 3 rodzaje wirusa (A, B i C) należącego do rodziny ortomyksowirusów. Wirus C powoduje zachorowanie o lżejszym przebiegu, natomiast wirusy A i B są przyczyną ciężkich zachorowań, które mogą osiągać rozmiary epidemii grypy.'],\n",
       "       ['Grypa rozwija się po zakażeniu wirusem grypy, a COVID-19 to choroba, która może rozwinąć się po zakażeniu koronawirusem 2019-nCoV '],\n",
       "       ['Grypa rozwija się po zakażeniu wirusem grypy, a COVID-19 to choroba, która może rozwinąć się po zakażeniu koronawirusem 2019-nCoV '],\n",
       "       [\"Leczenia zakażenia SARS-CoV-2. odbywa sie tak samo jak w przypadku grypy sezonowej'\"],\n",
       "       ['Grypę i CoVID-10 wywolują zupełnie inne wirusy'],\n",
       "       ['Grypę i CoVID-10 wywolują zupełnie inne wirusy'],\n",
       "       ['Przebieg COVID-19, podobnie jak w przypadku grypy,\\xa0jest zróżnicowany: od bezobjawowego, przez łagodną chorobę układu oddechowego, po ciężkie zapalenie płuc z zespołem ostrej niewydolności oddechowej lub niewydolnością wielonarządową'],\n",
       "       ['Przebieg COVID-19, podobnie jak w przypadku grypy,\\xa0jest zróżnicowany: od bezobjawowego, przez łagodną chorobę układu oddechowego, po ciężkie zapalenie płuc z zespołem ostrej niewydolności oddechowej lub niewydolnością wielonarządową'],\n",
       "       ['CoVID-19 łatwo pomylić z grypą, bo we wczesnym stadium choroby objawy są niemal identyczne  i mogą mieć łagodny lub ciężki przebieg, prowadząc do poważnych powikłań, a nawet śmierci człowieka ']],\n",
       "      dtype=object)"
      ]
     },
     "execution_count": 24,
     "metadata": {},
     "output_type": "execute_result"
    }
   ],
   "source": [
    "find_top_matches(\"Czy koronawirus jest podobny do grypy\", stop_words, all_words, facts, model)[['text']].values"
   ]
  },
  {
   "cell_type": "code",
   "execution_count": 36,
   "metadata": {},
   "outputs": [
    {
     "data": {
      "text/plain": [
       "array([['Zimna pogoda i snieg niszczą koronawirusa'],\n",
       "       ['Wraz z nadejsciem ciepleszych dni zagrozenie koronawirusem zmaleje'],\n",
       "       ['Korona wirus nie może długo utrzymywać sie poza ogranizmem i w zasadzie od razu ginie'],\n",
       "       [\"Dotykanie przedmiotów jest bezpieczne - wirus nie może także zostać przeniesiony, kiedy człowiek dotknie powierzchni lub przedmiotu, na którym znajduje się wirus (czyli np. ślina osoby chorej)'\"],\n",
       "       ['Gorąca kąpiel po powrocie do domu zmiejsza ryzyko zarazenia wirusem'],\n",
       "       ['Aby ochronić sie przed zakażeniem: Nie podawaj ręki, nie całuj na powitanie, nie obejmuj,Wirus przenosi się drogą kropelkową – zachowaj dystans od rozmówcy 1–1,5 metra,Jeśli możesz zostań w domu i unikaj dużych skupisk ludzkich, unikaj bliskiego kontaktu z chorymi.'],\n",
       "       ['Aby ochronić sie przed zakażeniem: Nie podawaj ręki, nie całuj na powitanie, nie obejmuj,Wirus przenosi się drogą kropelkową – zachowaj dystans od rozmówcy 1–1,5 metra,Jeśli możesz zostań w domu i unikaj dużych skupisk ludzkich, unikaj bliskiego kontaktu z chorymi.'],\n",
       "       [\"Jeśli będziesz blisko osoby, możesz zostać zakażony pod warunkiem ze ona kaszle i kicha'\"],\n",
       "       [\"Obecnie nie ma pewności, jak łatwo koronawirus 2019-nCoV przenosi się między ludźmi, a badania cały czas trwają. Zakłada się, że jedna chora osoba zaraża 3-4 kolejne.'\"],\n",
       "       ['Gorąca kąpiel po powrocie do domu nie zmniejsza ryzyka zachorowania na COVID-19 gdyż temperatura ciała pozostaje stałą (36,6-37) niezależnie od temperatury wody.']],\n",
       "      dtype=object)"
      ]
     },
     "execution_count": 36,
     "metadata": {},
     "output_type": "execute_result"
    }
   ],
   "source": [
    "find_top_matches(\"Czy koronawirus zniknie w lato\", stop_words, all_words, facts, my_model)[['text']].values"
   ]
  }
 ],
 "metadata": {
  "kernelspec": {
   "display_name": "Python 3",
   "language": "python",
   "name": "python3"
  },
  "language_info": {
   "codemirror_mode": {
    "name": "ipython",
    "version": 3
   },
   "file_extension": ".py",
   "mimetype": "text/x-python",
   "name": "python",
   "nbconvert_exporter": "python",
   "pygments_lexer": "ipython3",
   "version": "3.7.6"
  }
 },
 "nbformat": 4,
 "nbformat_minor": 4
}
