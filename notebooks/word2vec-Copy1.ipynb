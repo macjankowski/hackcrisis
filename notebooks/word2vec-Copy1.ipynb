{
 "cells": [
  {
   "cell_type": "code",
   "execution_count": 2,
   "metadata": {},
   "outputs": [],
   "source": [
    "from gensim.test.utils import common_texts, get_tmpfile\n",
    "from gensim.models import Word2Vec\n",
    "from gensim.models import KeyedVectors\n",
    "# from keras.preprocessing.text import Tokenizer\n",
    "from nltk.tokenize import sent_tokenize, word_tokenize\n",
    "from nltk.corpus import stopwords\n",
    "from nltk.stem.wordnet import WordNetLemmatizer\n",
    "import pandas as pd\n",
    "import pickle"
   ]
  },
  {
   "cell_type": "code",
   "execution_count": 33,
   "metadata": {},
   "outputs": [],
   "source": [
    "# wv_from_text = KeyedVectors.load_word2vec_format('../main/models/nkjp+wiki-forms-all-300-skipg-ns-50.txt', binary=False)\n",
    "\n",
    "MODEL_PATH='../main/models/nkjp+wiki-forms-all-300-skipg-ns-50.txt'\n",
    "FACTS_PATH='/Users/mjankowski/workspace/hackcrisis/hackcrisis_app/elastic/coronavirus_ground_truth_v8.csv'\n"
   ]
  },
  {
   "cell_type": "code",
   "execution_count": 35,
   "metadata": {},
   "outputs": [],
   "source": [
    "def sentence_to_tokens(sentence, stop_words, all_words):\n",
    "    try:\n",
    "        all_tokens = word_tokenize(sentence)\n",
    "        tokens = [x for x in all_tokens if x not in stop_words]\n",
    "        tokens = [x for x in tokens if x in all_words]\n",
    "        \n",
    "        all_tokens_lower = [x.lower() for x in all_tokens]\n",
    "        tokens_lower = [x for x in all_tokens_lower if x not in stop_words]\n",
    "        tokens_lower = [x for x in tokens_lower if x in all_words]\n",
    "        \n",
    "        return set(set(tokens) | set(tokens_lower))\n",
    "    except:\n",
    "        return []"
   ]
  },
  {
   "cell_type": "code",
   "execution_count": null,
   "metadata": {},
   "outputs": [],
   "source": []
  },
  {
   "cell_type": "code",
   "execution_count": 38,
   "metadata": {},
   "outputs": [],
   "source": [
    "def generate_facts(model_path, facts_path, out_path):\n",
    "    wv_from_text = pickle.load(open(model_path, \"rb\"))\n",
    "    vocab = wv_from_text.wv.vocab\n",
    "    all_words = []\n",
    "    for k, v in vocab.items():\n",
    "        all_words.append(k)\n",
    "\n",
    "    stop_words = stopwords.words('polish')\n",
    "    facts = pd.read_csv(FACTS_PATH)\n",
    "    facts['tokens'] = facts['text'].apply(sentence_to_tokens, args=(stop_words, all_words))\n",
    "    facts.to_pickle(out_path)\n"
   ]
  },
  {
   "cell_type": "code",
   "execution_count": 39,
   "metadata": {},
   "outputs": [
    {
     "name": "stderr",
     "output_type": "stream",
     "text": [
      "/anaconda3/envs/hackcrisis_flask/lib/python3.7/site-packages/ipykernel_launcher.py:3: DeprecationWarning: Call to deprecated `wv` (Attribute will be removed in 4.0.0, use self instead).\n",
      "  This is separate from the ipykernel package so we can avoid doing imports until\n"
     ]
    }
   ],
   "source": [
    "generate_facts('../main/models/model.pickle', FACTS_PATH, '../main/models/facts.pickle')"
   ]
  },
  {
   "cell_type": "code",
   "execution_count": null,
   "metadata": {},
   "outputs": [],
   "source": []
  },
  {
   "cell_type": "code",
   "execution_count": null,
   "metadata": {},
   "outputs": [],
   "source": []
  },
  {
   "cell_type": "code",
   "execution_count": null,
   "metadata": {},
   "outputs": [],
   "source": []
  },
  {
   "cell_type": "code",
   "execution_count": null,
   "metadata": {},
   "outputs": [],
   "source": []
  },
  {
   "cell_type": "code",
   "execution_count": null,
   "metadata": {},
   "outputs": [],
   "source": []
  },
  {
   "cell_type": "code",
   "execution_count": null,
   "metadata": {},
   "outputs": [],
   "source": []
  },
  {
   "cell_type": "code",
   "execution_count": null,
   "metadata": {},
   "outputs": [],
   "source": []
  },
  {
   "cell_type": "code",
   "execution_count": null,
   "metadata": {},
   "outputs": [],
   "source": []
  },
  {
   "cell_type": "code",
   "execution_count": null,
   "metadata": {},
   "outputs": [],
   "source": []
  },
  {
   "cell_type": "code",
   "execution_count": null,
   "metadata": {},
   "outputs": [],
   "source": []
  },
  {
   "cell_type": "code",
   "execution_count": 28,
   "metadata": {},
   "outputs": [],
   "source": [
    "def calculate_score(query_tokens, candidate_tokens, model):\n",
    "    if (len(query_tokens) > 0) & (len(candidate_tokens) > 0):\n",
    "        return model.n_similarity(query_tokens, candidate_tokens)\n",
    "    else: \n",
    "        return 0\n",
    "    "
   ]
  },
  {
   "cell_type": "code",
   "execution_count": 29,
   "metadata": {},
   "outputs": [],
   "source": [
    "def find_top_matches(query_sentence, stop_words, all_words, facts, model, k=10):\n",
    "    query_tokens = sentence_to_tokens(query_sentence, stop_words, all_words)\n",
    "    scores = [calculate_score(query_tokens, tokens, model) for tokens in facts['tokens']]\n",
    "    facts_scores = facts[['text', 'source', 'is_true']].copy()\n",
    "    facts_scores['score'] = scores\n",
    "    result = facts_scores.sort_values(by=['score'], ascending=False).head(k)\n",
    "    return result"
   ]
  },
  {
   "cell_type": "code",
   "execution_count": 30,
   "metadata": {},
   "outputs": [
    {
     "name": "stderr",
     "output_type": "stream",
     "text": [
      "/anaconda3/envs/hackcrisis_flask/lib/python3.7/site-packages/ipykernel_launcher.py:3: DeprecationWarning: Call to deprecated `wv` (Attribute will be removed in 4.0.0, use self instead).\n",
      "  This is separate from the ipykernel package so we can avoid doing imports until\n"
     ]
    }
   ],
   "source": [
    "stop_words, all_words, facts, model = init('../main/models/model.pickle', FACTS_PATH)"
   ]
  },
  {
   "cell_type": "code",
   "execution_count": 31,
   "metadata": {},
   "outputs": [],
   "source": [
    "facts.to_pickle('../main/models/facts.pickle')\n"
   ]
  },
  {
   "cell_type": "code",
   "execution_count": null,
   "metadata": {},
   "outputs": [],
   "source": [
    "pickle.dump(model, open('../main/models/model.pickle', \"wb\"))\n",
    "my_model = pickle.load(open('../main/models/model.pickle', \"rb\" ))"
   ]
  },
  {
   "cell_type": "code",
   "execution_count": 23,
   "metadata": {},
   "outputs": [
    {
     "data": {
      "text/plain": [
       "array([[\"Nie ma dotychczas żadnych danych wskazujących na to, że zwierzęta domowe, takie jak psy i koty mogą przenosić zakażenie koronawirusem 2019-nCoV.'\"],\n",
       "       ['Obecnie nie ma dowodów na to, że zwierzęta domowe, takie jak psy lub koty, mogą zostać zarażone nowym koronawirusem.'],\n",
       "       ['Obecnie nie ma dowodów na to, że zwierzęta domowe, takie jak psy lub koty, mogą zostać zarażone nowym koronawirusem.'],\n",
       "       ['Koronawirusy występują u zwierząt ale zwierzęta nie chorują na choroby z tym zwiazane'],\n",
       "       ['Zakażenie korona wirusem może być przenoszone przez komary'],\n",
       "       ['Antybiotyki nie działąją na wirusy tylko na bakterie.'],\n",
       "       ['Aktualnie nie ma dowodów na to że koronawirus jest przenoszony przez komary.'],\n",
       "       ['A przede wszystkim mycie rąk pozwala usunąć z powierzchni rąk m.in. bakterie, wirusy czy grzyby odpowiadające za cały szereg groźnych chorób, jak choćby salmonellę czy grypę.'],\n",
       "       ['A przede wszystkim mycie rąk pozwala usunąć z powierzchni rąk m.in. bakterie, wirusy czy grzyby odpowiadające za cały szereg groźnych chorób, jak choćby salmonellę czy grypę.'],\n",
       "       ['Ze względu na zagrozenie zakażenia ludzi zwierzęta domowe muszą zostać oddane do schroniska']],\n",
       "      dtype=object)"
      ]
     },
     "execution_count": 23,
     "metadata": {},
     "output_type": "execute_result"
    }
   ],
   "source": [
    "find_top_matches(\"zwierzęta komary\", stop_words, all_words, facts, model)[['text']].values"
   ]
  },
  {
   "cell_type": "code",
   "execution_count": 24,
   "metadata": {},
   "outputs": [
    {
     "data": {
      "text/plain": [
       "array([['Grypa to choroba zakaźna układu oddechowego wywołana zakażeniem wirusem grypy. Grypę mogą powodować 3 rodzaje wirusa (A, B i C) należącego do rodziny ortomyksowirusów. Wirus C powoduje zachorowanie o lżejszym przebiegu, natomiast wirusy A i B są przyczyną ciężkich zachorowań, które mogą osiągać rozmiary epidemii grypy.'],\n",
       "       ['Grypa to choroba zakaźna układu oddechowego wywołana zakażeniem wirusem grypy. Grypę mogą powodować 3 rodzaje wirusa (A, B i C) należącego do rodziny ortomyksowirusów. Wirus C powoduje zachorowanie o lżejszym przebiegu, natomiast wirusy A i B są przyczyną ciężkich zachorowań, które mogą osiągać rozmiary epidemii grypy.'],\n",
       "       ['Grypa rozwija się po zakażeniu wirusem grypy, a COVID-19 to choroba, która może rozwinąć się po zakażeniu koronawirusem 2019-nCoV '],\n",
       "       ['Grypa rozwija się po zakażeniu wirusem grypy, a COVID-19 to choroba, która może rozwinąć się po zakażeniu koronawirusem 2019-nCoV '],\n",
       "       [\"Leczenia zakażenia SARS-CoV-2. odbywa sie tak samo jak w przypadku grypy sezonowej'\"],\n",
       "       ['Grypę i CoVID-10 wywolują zupełnie inne wirusy'],\n",
       "       ['Grypę i CoVID-10 wywolują zupełnie inne wirusy'],\n",
       "       ['Przebieg COVID-19, podobnie jak w przypadku grypy,\\xa0jest zróżnicowany: od bezobjawowego, przez łagodną chorobę układu oddechowego, po ciężkie zapalenie płuc z zespołem ostrej niewydolności oddechowej lub niewydolnością wielonarządową'],\n",
       "       ['Przebieg COVID-19, podobnie jak w przypadku grypy,\\xa0jest zróżnicowany: od bezobjawowego, przez łagodną chorobę układu oddechowego, po ciężkie zapalenie płuc z zespołem ostrej niewydolności oddechowej lub niewydolnością wielonarządową'],\n",
       "       ['CoVID-19 łatwo pomylić z grypą, bo we wczesnym stadium choroby objawy są niemal identyczne  i mogą mieć łagodny lub ciężki przebieg, prowadząc do poważnych powikłań, a nawet śmierci człowieka ']],\n",
       "      dtype=object)"
      ]
     },
     "execution_count": 24,
     "metadata": {},
     "output_type": "execute_result"
    }
   ],
   "source": [
    "find_top_matches(\"Czy koronawirus jest podobny do grypy\", stop_words, all_words, facts, model)[['text']].values"
   ]
  },
  {
   "cell_type": "code",
   "execution_count": 36,
   "metadata": {},
   "outputs": [
    {
     "data": {
      "text/plain": [
       "array([['Zimna pogoda i snieg niszczą koronawirusa'],\n",
       "       ['Wraz z nadejsciem ciepleszych dni zagrozenie koronawirusem zmaleje'],\n",
       "       ['Korona wirus nie może długo utrzymywać sie poza ogranizmem i w zasadzie od razu ginie'],\n",
       "       [\"Dotykanie przedmiotów jest bezpieczne - wirus nie może także zostać przeniesiony, kiedy człowiek dotknie powierzchni lub przedmiotu, na którym znajduje się wirus (czyli np. ślina osoby chorej)'\"],\n",
       "       ['Gorąca kąpiel po powrocie do domu zmiejsza ryzyko zarazenia wirusem'],\n",
       "       ['Aby ochronić sie przed zakażeniem: Nie podawaj ręki, nie całuj na powitanie, nie obejmuj,Wirus przenosi się drogą kropelkową – zachowaj dystans od rozmówcy 1–1,5 metra,Jeśli możesz zostań w domu i unikaj dużych skupisk ludzkich, unikaj bliskiego kontaktu z chorymi.'],\n",
       "       ['Aby ochronić sie przed zakażeniem: Nie podawaj ręki, nie całuj na powitanie, nie obejmuj,Wirus przenosi się drogą kropelkową – zachowaj dystans od rozmówcy 1–1,5 metra,Jeśli możesz zostań w domu i unikaj dużych skupisk ludzkich, unikaj bliskiego kontaktu z chorymi.'],\n",
       "       [\"Jeśli będziesz blisko osoby, możesz zostać zakażony pod warunkiem ze ona kaszle i kicha'\"],\n",
       "       [\"Obecnie nie ma pewności, jak łatwo koronawirus 2019-nCoV przenosi się między ludźmi, a badania cały czas trwają. Zakłada się, że jedna chora osoba zaraża 3-4 kolejne.'\"],\n",
       "       ['Gorąca kąpiel po powrocie do domu nie zmniejsza ryzyka zachorowania na COVID-19 gdyż temperatura ciała pozostaje stałą (36,6-37) niezależnie od temperatury wody.']],\n",
       "      dtype=object)"
      ]
     },
     "execution_count": 36,
     "metadata": {},
     "output_type": "execute_result"
    }
   ],
   "source": [
    "find_top_matches(\"Czy koronawirus zniknie w lato\", stop_words, all_words, facts, my_model)[['text']].values"
   ]
  },
  {
   "cell_type": "code",
   "execution_count": null,
   "metadata": {},
   "outputs": [],
   "source": []
  },
  {
   "cell_type": "code",
   "execution_count": null,
   "metadata": {},
   "outputs": [],
   "source": []
  },
  {
   "cell_type": "code",
   "execution_count": null,
   "metadata": {},
   "outputs": [],
   "source": []
  },
  {
   "cell_type": "code",
   "execution_count": null,
   "metadata": {},
   "outputs": [],
   "source": []
  },
  {
   "cell_type": "code",
   "execution_count": null,
   "metadata": {},
   "outputs": [],
   "source": []
  },
  {
   "cell_type": "code",
   "execution_count": 2,
   "metadata": {},
   "outputs": [],
   "source": [
    "class Word2VecClient:\n",
    "\n",
    "    def __init__(self, model_path, facts_path):\n",
    "        self.wv_from_text = pickle.load(open(model_path, \"rb\"))\n",
    "        vocab = self.wv_from_text.wv.vocab\n",
    "        self.all_words = []\n",
    "        for k, v in vocab.items():\n",
    "            self.all_words.append(k)\n",
    "\n",
    "        self.stop_words = stopwords.words('polish')\n",
    "        self.facts = pd.read_pickle(facts_path)\n",
    "\n",
    "    def sentence_to_tokens(self, sentence):\n",
    "        try:\n",
    "            all_tokens = word_tokenize(sentence)\n",
    "            tokens = [x for x in all_tokens if x not in self.stop_words]\n",
    "            tokens = [x for x in tokens if x in self.all_words]\n",
    "\n",
    "            all_tokens_lower = [x.lower() for x in all_tokens]\n",
    "            tokens_lower = [x for x in all_tokens_lower if x not in self.stop_words]\n",
    "            tokens_lower = [x for x in tokens_lower if x in self.all_words]\n",
    "\n",
    "            return set(set(tokens) | set(tokens_lower))\n",
    "        except:\n",
    "            return []\n",
    "\n",
    "    def calculate_score(self, query_tokens, candidate_tokens):\n",
    "        if (len(query_tokens) > 0) & (len(candidate_tokens) > 0):\n",
    "            return self.wv_from_text.n_similarity(query_tokens, candidate_tokens)\n",
    "        else:\n",
    "            return 0\n",
    "\n",
    "    def find_top_matches(self, query_sentence, k=10):\n",
    "        query_tokens = self.sentence_to_tokens(query_sentence)\n",
    "        scores = [self.calculate_score(query_tokens, tokens) for tokens in self.facts['tokens']]\n",
    "        facts_scores = self.facts[['text', 'source', 'is_true']].copy()\n",
    "        facts_scores['score'] = scores\n",
    "        result = facts_scores.sort_values(by=['score'], ascending=False).head(k)\n",
    "        return result\n"
   ]
  },
  {
   "cell_type": "code",
   "execution_count": 6,
   "metadata": {},
   "outputs": [
    {
     "name": "stderr",
     "output_type": "stream",
     "text": [
      "/anaconda3/envs/hackcrisis_flask/lib/python3.7/site-packages/ipykernel_launcher.py:5: DeprecationWarning: Call to deprecated `wv` (Attribute will be removed in 4.0.0, use self instead).\n",
      "  \"\"\"\n"
     ]
    }
   ],
   "source": [
    "w2v_client = Word2VecClient('../main/models/model.pickle', '../main/models/facts.pickle')\n"
   ]
  },
  {
   "cell_type": "code",
   "execution_count": 7,
   "metadata": {},
   "outputs": [],
   "source": [
    "result = w2v_client.find_top_matches(\"mydło\", 10)"
   ]
  },
  {
   "cell_type": "code",
   "execution_count": 8,
   "metadata": {},
   "outputs": [
    {
     "data": {
      "text/html": [
       "<div>\n",
       "<style scoped>\n",
       "    .dataframe tbody tr th:only-of-type {\n",
       "        vertical-align: middle;\n",
       "    }\n",
       "\n",
       "    .dataframe tbody tr th {\n",
       "        vertical-align: top;\n",
       "    }\n",
       "\n",
       "    .dataframe thead th {\n",
       "        text-align: right;\n",
       "    }\n",
       "</style>\n",
       "<table border=\"1\" class=\"dataframe\">\n",
       "  <thead>\n",
       "    <tr style=\"text-align: right;\">\n",
       "      <th></th>\n",
       "      <th>text</th>\n",
       "      <th>source</th>\n",
       "      <th>is_true</th>\n",
       "      <th>score</th>\n",
       "    </tr>\n",
       "  </thead>\n",
       "  <tbody>\n",
       "    <tr>\n",
       "      <th>133</th>\n",
       "      <td>Po myciu najlepiej wytrzyj ręce w papierowy rę...</td>\n",
       "      <td>pacjent.gov.pl</td>\n",
       "      <td>True</td>\n",
       "      <td>0.557701</td>\n",
       "    </tr>\n",
       "    <tr>\n",
       "      <th>248</th>\n",
       "      <td>Po myciu najlepiej wytrzyj ręce w papierowy rę...</td>\n",
       "      <td>NaN</td>\n",
       "      <td>False</td>\n",
       "      <td>0.557701</td>\n",
       "    </tr>\n",
       "    <tr>\n",
       "      <th>250</th>\n",
       "      <td>Jeśli mydło i woda nie są łatwo dostępne, użyj...</td>\n",
       "      <td>NaN</td>\n",
       "      <td>False</td>\n",
       "      <td>0.529651</td>\n",
       "    </tr>\n",
       "    <tr>\n",
       "      <th>135</th>\n",
       "      <td>Jeśli mydło i woda nie są łatwo dostępne, użyj...</td>\n",
       "      <td>pacjent.gov.pl</td>\n",
       "      <td>True</td>\n",
       "      <td>0.529651</td>\n",
       "    </tr>\n",
       "    <tr>\n",
       "      <th>93</th>\n",
       "      <td>Gorące powietrze z suszarki do włosów jest sku...</td>\n",
       "      <td>www.newsweek.com</td>\n",
       "      <td>False</td>\n",
       "      <td>0.508637</td>\n",
       "    </tr>\n",
       "  </tbody>\n",
       "</table>\n",
       "</div>"
      ],
      "text/plain": [
       "                                                  text            source  \\\n",
       "133  Po myciu najlepiej wytrzyj ręce w papierowy rę...    pacjent.gov.pl   \n",
       "248  Po myciu najlepiej wytrzyj ręce w papierowy rę...               NaN   \n",
       "250  Jeśli mydło i woda nie są łatwo dostępne, użyj...               NaN   \n",
       "135  Jeśli mydło i woda nie są łatwo dostępne, użyj...    pacjent.gov.pl   \n",
       "93   Gorące powietrze z suszarki do włosów jest sku...  www.newsweek.com   \n",
       "\n",
       "     is_true     score  \n",
       "133     True  0.557701  \n",
       "248    False  0.557701  \n",
       "250    False  0.529651  \n",
       "135     True  0.529651  \n",
       "93     False  0.508637  "
      ]
     },
     "execution_count": 8,
     "metadata": {},
     "output_type": "execute_result"
    }
   ],
   "source": [
    "result.head()"
   ]
  },
  {
   "cell_type": "code",
   "execution_count": 11,
   "metadata": {},
   "outputs": [],
   "source": [
    "my_facts = pd.read_pickle('../main/models/facts.pickle')\n"
   ]
  },
  {
   "cell_type": "code",
   "execution_count": 15,
   "metadata": {},
   "outputs": [
    {
     "data": {
      "text/html": [
       "<div>\n",
       "<style scoped>\n",
       "    .dataframe tbody tr th:only-of-type {\n",
       "        vertical-align: middle;\n",
       "    }\n",
       "\n",
       "    .dataframe tbody tr th {\n",
       "        vertical-align: top;\n",
       "    }\n",
       "\n",
       "    .dataframe thead th {\n",
       "        text-align: right;\n",
       "    }\n",
       "</style>\n",
       "<table border=\"1\" class=\"dataframe\">\n",
       "  <thead>\n",
       "    <tr style=\"text-align: right;\">\n",
       "      <th></th>\n",
       "      <th>id</th>\n",
       "      <th>text</th>\n",
       "      <th>source</th>\n",
       "      <th>is_true</th>\n",
       "      <th>tokens</th>\n",
       "    </tr>\n",
       "  </thead>\n",
       "  <tbody>\n",
       "    <tr>\n",
       "      <th>133</th>\n",
       "      <td>135</td>\n",
       "      <td>Po myciu najlepiej wytrzyj ręce w papierowy rę...</td>\n",
       "      <td>pacjent.gov.pl</td>\n",
       "      <td>True</td>\n",
       "      <td>{używasz, często, ręcznik, najlepiej, tkaniny,...</td>\n",
       "    </tr>\n",
       "    <tr>\n",
       "      <th>248</th>\n",
       "      <td>251</td>\n",
       "      <td>Po myciu najlepiej wytrzyj ręce w papierowy rę...</td>\n",
       "      <td>NaN</td>\n",
       "      <td>False</td>\n",
       "      <td>{używasz, często, ręcznik, najlepiej, tkaniny,...</td>\n",
       "    </tr>\n",
       "  </tbody>\n",
       "</table>\n",
       "</div>"
      ],
      "text/plain": [
       "      id                                               text          source  \\\n",
       "133  135  Po myciu najlepiej wytrzyj ręce w papierowy rę...  pacjent.gov.pl   \n",
       "248  251  Po myciu najlepiej wytrzyj ręce w papierowy rę...             NaN   \n",
       "\n",
       "     is_true                                             tokens  \n",
       "133     True  {używasz, często, ręcznik, najlepiej, tkaniny,...  \n",
       "248    False  {używasz, często, ręcznik, najlepiej, tkaniny,...  "
      ]
     },
     "execution_count": 15,
     "metadata": {},
     "output_type": "execute_result"
    }
   ],
   "source": [
    "my_facts = my_facts.dropna(subset=['text'])\n",
    "my_facts[my_facts['text'].str.contains(\"myciu najlepiej\")]\n"
   ]
  },
  {
   "cell_type": "code",
   "execution_count": 33,
   "metadata": {},
   "outputs": [
    {
     "ename": "NameError",
     "evalue": "name 'all_words' is not defined",
     "output_type": "error",
     "traceback": [
      "\u001b[0;31m---------------------------------------------------------------------------\u001b[0m",
      "\u001b[0;31mNameError\u001b[0m                                 Traceback (most recent call last)",
      "\u001b[0;32m<ipython-input-33-ac5e4df58fae>\u001b[0m in \u001b[0;36m<module>\u001b[0;34m\u001b[0m\n\u001b[1;32m      1\u001b[0m \u001b[0mstop_words\u001b[0m \u001b[0;34m=\u001b[0m \u001b[0mstopwords\u001b[0m\u001b[0;34m.\u001b[0m\u001b[0mwords\u001b[0m\u001b[0;34m(\u001b[0m\u001b[0;34m'polish'\u001b[0m\u001b[0;34m)\u001b[0m\u001b[0;34m\u001b[0m\u001b[0;34m\u001b[0m\u001b[0m\n\u001b[1;32m      2\u001b[0m \u001b[0mfacts_txt\u001b[0m \u001b[0;34m=\u001b[0m \u001b[0mpd\u001b[0m\u001b[0;34m.\u001b[0m\u001b[0mread_csv\u001b[0m\u001b[0;34m(\u001b[0m\u001b[0;34m'/Users/mjankowski/workspace/hackcrisis/hackcrisis_app/elastic/coronavirus_ground_truth_v7.csv'\u001b[0m\u001b[0;34m)\u001b[0m\u001b[0;34m\u001b[0m\u001b[0;34m\u001b[0m\u001b[0m\n\u001b[0;32m----> 3\u001b[0;31m \u001b[0mfacts_txt\u001b[0m\u001b[0;34m[\u001b[0m\u001b[0;34m'tokens'\u001b[0m\u001b[0;34m]\u001b[0m \u001b[0;34m=\u001b[0m \u001b[0mfacts_txt\u001b[0m\u001b[0;34m[\u001b[0m\u001b[0;34m'text'\u001b[0m\u001b[0;34m]\u001b[0m\u001b[0;34m.\u001b[0m\u001b[0mapply\u001b[0m\u001b[0;34m(\u001b[0m\u001b[0msentence_to_tokens\u001b[0m\u001b[0;34m,\u001b[0m \u001b[0margs\u001b[0m\u001b[0;34m=\u001b[0m\u001b[0;34m(\u001b[0m\u001b[0mstop_words\u001b[0m\u001b[0;34m,\u001b[0m \u001b[0mall_words\u001b[0m\u001b[0;34m)\u001b[0m\u001b[0;34m)\u001b[0m\u001b[0;34m\u001b[0m\u001b[0;34m\u001b[0m\u001b[0m\n\u001b[0m\u001b[1;32m      4\u001b[0m \u001b[0;34m\u001b[0m\u001b[0m\n",
      "\u001b[0;31mNameError\u001b[0m: name 'all_words' is not defined"
     ]
    }
   ],
   "source": [
    "stop_words = stopwords.words('polish')\n",
    "facts_txt = pd.read_csv('/Users/mjankowski/workspace/hackcrisis/hackcrisis_app/elastic/coronavirus_ground_truth_v7.csv')\n",
    "facts_txt['tokens'] = facts_txt['text'].apply(sentence_to_tokens, args=(stop_words, all_words))\n",
    "\n"
   ]
  },
  {
   "cell_type": "code",
   "execution_count": 17,
   "metadata": {},
   "outputs": [
    {
     "data": {
      "text/html": [
       "<div>\n",
       "<style scoped>\n",
       "    .dataframe tbody tr th:only-of-type {\n",
       "        vertical-align: middle;\n",
       "    }\n",
       "\n",
       "    .dataframe tbody tr th {\n",
       "        vertical-align: top;\n",
       "    }\n",
       "\n",
       "    .dataframe thead th {\n",
       "        text-align: right;\n",
       "    }\n",
       "</style>\n",
       "<table border=\"1\" class=\"dataframe\">\n",
       "  <thead>\n",
       "    <tr style=\"text-align: right;\">\n",
       "      <th></th>\n",
       "      <th>id</th>\n",
       "      <th>text</th>\n",
       "      <th>source</th>\n",
       "      <th>is_true</th>\n",
       "    </tr>\n",
       "  </thead>\n",
       "  <tbody>\n",
       "    <tr>\n",
       "      <th>129</th>\n",
       "      <td>134</td>\n",
       "      <td>Po myciu najlepiej wytrzyj ręce w papierowy rę...</td>\n",
       "      <td>pacjent.gov.pl</td>\n",
       "      <td>True</td>\n",
       "    </tr>\n",
       "  </tbody>\n",
       "</table>\n",
       "</div>"
      ],
      "text/plain": [
       "      id                                               text          source  \\\n",
       "129  134  Po myciu najlepiej wytrzyj ręce w papierowy rę...  pacjent.gov.pl   \n",
       "\n",
       "     is_true  \n",
       "129     True  "
      ]
     },
     "execution_count": 17,
     "metadata": {},
     "output_type": "execute_result"
    }
   ],
   "source": [
    "facts_txt = facts_txt.dropna(subset=['text'])\n",
    "facts_txt[facts_txt['text'].str.contains(\"myciu najlepiej\")]"
   ]
  },
  {
   "cell_type": "code",
   "execution_count": 20,
   "metadata": {},
   "outputs": [],
   "source": []
  },
  {
   "cell_type": "code",
   "execution_count": 21,
   "metadata": {},
   "outputs": [],
   "source": []
  },
  {
   "cell_type": "code",
   "execution_count": 22,
   "metadata": {},
   "outputs": [
    {
     "data": {
      "text/html": [
       "<div>\n",
       "<style scoped>\n",
       "    .dataframe tbody tr th:only-of-type {\n",
       "        vertical-align: middle;\n",
       "    }\n",
       "\n",
       "    .dataframe tbody tr th {\n",
       "        vertical-align: top;\n",
       "    }\n",
       "\n",
       "    .dataframe thead th {\n",
       "        text-align: right;\n",
       "    }\n",
       "</style>\n",
       "<table border=\"1\" class=\"dataframe\">\n",
       "  <thead>\n",
       "    <tr style=\"text-align: right;\">\n",
       "      <th></th>\n",
       "      <th>id</th>\n",
       "      <th>text</th>\n",
       "      <th>source</th>\n",
       "      <th>is_true</th>\n",
       "    </tr>\n",
       "  </thead>\n",
       "  <tbody>\n",
       "    <tr>\n",
       "      <th>129</th>\n",
       "      <td>134</td>\n",
       "      <td>Po myciu najlepiej wytrzyj ręce w papierowy rę...</td>\n",
       "      <td>pacjent.gov.pl</td>\n",
       "      <td>True</td>\n",
       "    </tr>\n",
       "  </tbody>\n",
       "</table>\n",
       "</div>"
      ],
      "text/plain": [
       "      id                                               text          source  \\\n",
       "129  134  Po myciu najlepiej wytrzyj ręce w papierowy rę...  pacjent.gov.pl   \n",
       "\n",
       "     is_true  \n",
       "129     True  "
      ]
     },
     "execution_count": 22,
     "metadata": {},
     "output_type": "execute_result"
    }
   ],
   "source": [
    "facts_txt.to_pickle('../main/models/facts2.pickle')\n",
    "facts2 = pd.read_pickle('../main/models/facts2.pickle')\n",
    "\n",
    "facts2 = facts2.dropna(subset=['text'])\n",
    "facts2[facts2['text'].str.contains(\"myciu najlepiej\")]"
   ]
  },
  {
   "cell_type": "code",
   "execution_count": null,
   "metadata": {},
   "outputs": [],
   "source": []
  }
 ],
 "metadata": {
  "kernelspec": {
   "display_name": "Python 3",
   "language": "python",
   "name": "python3"
  },
  "language_info": {
   "codemirror_mode": {
    "name": "ipython",
    "version": 3
   },
   "file_extension": ".py",
   "mimetype": "text/x-python",
   "name": "python",
   "nbconvert_exporter": "python",
   "pygments_lexer": "ipython3",
   "version": "3.7.6"
  }
 },
 "nbformat": 4,
 "nbformat_minor": 4
}
